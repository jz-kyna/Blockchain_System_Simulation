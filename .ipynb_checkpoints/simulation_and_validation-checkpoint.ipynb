{
 "cells": [
  {
   "cell_type": "markdown",
   "metadata": {
    "colab_type": "text",
    "id": "t9-7wckmnTS4"
   },
   "source": [
    "**_Part A. This section is for simulation and validation_**"
   ]
  },
  {
   "cell_type": "code",
   "execution_count": 0,
   "metadata": {
    "colab": {
     "base_uri": "https://localhost:8080/",
     "height": 119
    },
    "colab_type": "code",
    "id": "8iSZKA5p06Vw",
    "outputId": "c112739c-c705-44ae-b122-5d6c6ff7a16b"
   },
   "outputs": [
    {
     "name": "stdout",
     "output_type": "stream",
     "text": [
      "The simulation for minerRate = 20 and blockSize = 3 starts.\n",
      "The simulation for minerRate = 20 and blockSize = 4 starts.\n",
      "The simulation for minerRate = 20 and blockSize = 5 starts.\n",
      "The simulation for minerRate = 30 and blockSize = 3 starts.\n",
      "The simulation for minerRate = 30 and blockSize = 4 starts.\n",
      "The simulation for minerRate = 30 and blockSize = 5 starts.\n"
     ]
    }
   ],
   "source": [
    "### Simulation test: one can set up any lambda, mu and k by setting arrivalRate, minerRate and blockSize list\n",
    "### and all the simulation results are stored in the sim_test.results\n",
    "\n",
    "arrivalRate = [120,130]\n",
    "minerRate = [1,3,5,10,15,20,25,30]\n",
    "blockSize = [1,3,5,10,15,20,25,30]\n",
    "t_end = 20 # simulation period: 300 hours (for test use, set up 20 is suitable)\n",
    "\n",
    "#SimulationBasic(self, minerRate_list,blockSize_list,t_end)\n",
    "sim_test = SimulationBasic(minerRate, blockSize, t_end)\n",
    "#sim_test = brc.SimulationBasic(minerRate, blockSize, t_end)\n",
    "sim_test.multiTimeSimulate()"
   ]
  },
  {
   "cell_type": "markdown",
   "metadata": {
    "colab_type": "text",
    "id": "ABlXrVXLvqp4"
   },
   "source": [
    "**Part B. Here we plot the steady states' metrics evolving with time for one pair mu and k**"
   ]
  },
  {
   "cell_type": "code",
   "execution_count": 0,
   "metadata": {
    "colab": {
     "base_uri": "https://localhost:8080/",
     "height": 512
    },
    "colab_type": "code",
    "id": "kbBZ_B_VGeum",
    "outputId": "e079ad12-2010-4e58-89ab-5ac4e4ab9568"
   },
   "outputs": [
    {
     "data": {
      "image/png": "[encoded data removed]",
      "text/plain": [
       "<matplotlib.figure.Figure at 0x7fe3fd5aa0f0>"
      ]
     },
     "metadata": {
      "tags": []
     },
     "output_type": "display_data"
    }
   ],
   "source": [
    "### Plots for steady states' metrics, here we only plot one pair of mu and k in sim_test.results\n",
    "### One can vary the index of sim_test.results to get plots with other mu and k. \n",
    "\n",
    "result_test = sim_test.results[5] #one can change the index here to access different pairs of mu and k \n",
    "times = result_test[0]\n",
    "lengthofQueue = result_test[1]\n",
    "num_transactions = result_test[2]\n",
    "num_RBC = result_test[3]\n",
    "delay = result_test[4]\n",
    "rateofFee = result_test[5]\n",
    "minerRate,blockSize = result_test[7]\n",
    "#print(result_test)\n",
    "print(minerRate)\n",
    "\n",
    "plt.figure(figsize=(12,8))\n",
    "plt.step(times, lengthofQueue, label = \"length of queue\", where = \"post\")\n",
    "#plt.step(times, num_transactions, label = \"number of transactions\", where = \"post\")\n",
    "#plt.step(times, delay, label = \"delay\", where = \"post\")\n",
    "#plt.step(times, num_RBC, label = \"number of RBCs\", where = \"post\")\n",
    "#plt.step(times, rateofFee, label = \"rate of fees collected\", where = \"post\")\n",
    "plt.ylabel(\"metrics\")\n",
    "plt.xlabel(\"Time\")\n",
    "plt.legend()\n",
    "plt.title(\"Scenario 1: u = {0}, k = {1}\".format(minerRate,blockSize))\n",
    "plt.show()\n"
   ]
  },
  {
   "cell_type": "markdown",
   "metadata": {
    "colab_type": "text",
    "id": "FVhAr02Ev-JF"
   },
   "source": [
    "**Part C. Metrics plots for a fixed mu with varing k **"
   ]
  },
  {
   "cell_type": "code",
   "execution_count": 0,
   "metadata": {
    "colab": {},
    "colab_type": "code",
    "id": "F-G-FCidvAPO"
   },
   "outputs": [],
   "source": [
    "# Retain the metrics information from sim_test.results in the format\n",
    "# [0-times,1-lengthofQueue,2-num_transactions,3-totalBRC,4-delay,5-rateofFee,finished_trans] \n",
    "times = []\n",
    "queueLength = []\n",
    "transactionRate = []\n",
    "BRCRate = []\n",
    "delay = []\n",
    "rateofFee = []\n",
    "mu = []\n",
    "K = []\n",
    "\n",
    "for i in range(16):\n",
    "    result = sim_test.results[i]\n",
    "    times.append(result[0])\n",
    "    queueLength.append((np.array(result[1])*np.array(result[0])).tolist())\n",
    "    transactionRate.append(result[2])\n",
    "    BRCRate.append(result[3])\n",
    "    delay.append(result[4])\n",
    "    rateofFee.append(result[5])  \n",
    "    mu.append(result[7][0])\n",
    "    K.append(result[7][1])"
   ]
  },
  {
   "cell_type": "code",
   "execution_count": 0,
   "metadata": {
    "colab": {},
    "colab_type": "code",
    "id": "UFG-Gyz-vLcD"
   },
   "outputs": [],
   "source": [
    "# Plots for queueLength\n",
    "\n",
    "plt.figure(figsize=(8,5))   \n",
    "plt.ylabel(\"QueueLength\")\n",
    "plt.xlabel(\"Time\")\n",
    "plt.title(\"Scenario 1: u = {0}\".format(mu[0]))\n",
    "  \n",
    "for i in range(8):\n",
    "    lab =\"K = \"+str(K[i])\n",
    "    plt.step(times[i], queueLength[i], label = lab, where = \"post\")\n",
    "    plt.legend()\n",
    "  \n",
    "figname = \"QueueLength: mu_\"+str(mu[0])+\".jpg\"\n",
    "plt.savefig(figname)\n",
    "#files.download(figname)\n",
    "  \n",
    "plt.figure(figsize=(8,5))   \n",
    "plt.ylabel(\"QueueLength\")\n",
    "plt.xlabel(\"Time\")\n",
    "plt.title(\"Scenario 1: u = {0}\".format(mu[8]))\n",
    "  \n",
    "for i in range(8,16):\n",
    "  lab =\"K = \"+str(K[i])\n",
    "  plt.step(times[i], queueLength[i], label = lab, where = \"post\")\n",
    "  plt.legend()\n",
    "\n",
    "figname = \"QueueLength: mu_\"+str(mu[8])+\".jpg\"\n",
    "plt.savefig(figname)\n",
    "#files.download(figname)"
   ]
  },
  {
   "cell_type": "code",
   "execution_count": 0,
   "metadata": {
    "colab": {},
    "colab_type": "code",
    "id": "-IZwjP-bvNh5"
   },
   "outputs": [],
   "source": [
    "# Plots for Delay\n",
    "\n",
    "plt.figure(figsize=(8,5))   \n",
    "plt.ylabel(\"Delay\")\n",
    "plt.xlabel(\"Time\")\n",
    "plt.title(\"Scenario 1: u = {0}\".format(mu[0]))\n",
    "  \n",
    "for i in range(8):\n",
    "  lab =\"K = \"+str(K[i])\n",
    "  plt.step(times[i], delay[i], label = lab, where = \"post\")\n",
    "  plt.legend()\n",
    "  \n",
    "figname = \"Delay: mu_\"+str(mu[0])+\".jpg\"\n",
    "plt.savefig(figname)\n",
    "#files.download(figname)\n",
    "  \n",
    "plt.figure(figsize=(8,5))   \n",
    "plt.ylabel(\"Delay\")\n",
    "plt.xlabel(\"Time\")\n",
    "plt.title(\"Scenario 1: u = {0}\".format(mu[8]))\n",
    "  \n",
    "for i in range(8,16):\n",
    "  lab =\"K = \"+str(K[i])\n",
    "  plt.step(times[i], delay[i], label = lab, where = \"post\")\n",
    "  plt.legend()\n",
    "\n",
    "figname = \"Delay: mu_\"+str(mu[8])+\".jpg\"\n",
    "plt.savefig(figname)\n",
    "#files.download(figname)"
   ]
  },
  {
   "cell_type": "code",
   "execution_count": 0,
   "metadata": {
    "colab": {},
    "colab_type": "code",
    "id": "VIsiFLuPvUJ9"
   },
   "outputs": [],
   "source": [
    "# Plots for BRCRate\n",
    "\n",
    "plt.figure(figsize=(8,5))   \n",
    "plt.ylabel(\"BRCRate\")\n",
    "plt.xlabel(\"Time\")\n",
    "plt.title(\"Scenario 1: u = {0}\".format(mu[0]))\n",
    "  \n",
    "for i in range(8):\n",
    "  lab =\"K = \"+str(K[i])\n",
    "  plt.step(times[i], BRCRate[i], label = lab, where = \"post\")\n",
    "  plt.legend()\n",
    "  \n",
    "figname = \"BRCRate: mu_\"+str(mu[0])+\".jpg\"\n",
    "plt.savefig(figname)\n",
    "#files.download(figname)\n",
    "  \n",
    "plt.figure(figsize=(8,5))   \n",
    "plt.ylabel(\"BRCRate\")\n",
    "plt.xlabel(\"Time\")\n",
    "plt.title(\"Scenario 1: u = {0}\".format(mu[8]))\n",
    "  \n",
    "for i in range(8,16):\n",
    "  lab =\"K = \"+str(K[i])\n",
    "  plt.step(times[i], BRCRate[i], label = lab, where = \"post\")\n",
    "  plt.legend()\n",
    "\n",
    "figname = \"BRCRate: mu_\"+str(mu[8])+\".jpg\"\n",
    "plt.savefig(figname)\n",
    "#files.download(figname)"
   ]
  },
  {
   "cell_type": "code",
   "execution_count": 0,
   "metadata": {
    "colab": {},
    "colab_type": "code",
    "id": "-2H9le5_vVt6"
   },
   "outputs": [],
   "source": [
    "# Plots for rateofFee\n",
    "\n",
    "plt.figure(figsize=(8,5))   \n",
    "plt.ylabel(\"RateofFee\")\n",
    "plt.xlabel(\"Time\")\n",
    "plt.title(\"Scenario 1: u = {0}\".format(mu[0]))\n",
    "  \n",
    "for i in range(8):\n",
    "  lab =\"K = \"+str(K[i])\n",
    "  plt.step(times[i], rateofFee[i], label = lab, where = \"post\")\n",
    "  plt.legend()\n",
    "  \n",
    "figname = \"RateofFee: mu_\"+str(mu[0])+\".jpg\"\n",
    "plt.savefig(figname)\n",
    "#files.download(figname)\n",
    "  \n",
    "plt.figure(figsize=(8,5))   \n",
    "plt.ylabel(\"RateofFee\")\n",
    "plt.xlabel(\"Time\")\n",
    "plt.title(\"Scenario 1: u = {0}\".format(mu[8]))\n",
    "  \n",
    "for i in range(8,16):\n",
    "  lab =\"K = \"+str(K[i])\n",
    "  plt.step(times[i], rateofFee[i], label = lab, where = \"post\")\n",
    "  plt.legend()\n",
    "\n",
    "figname = \"RateofFee: mu_\"+str(mu[8])+\".jpg\"\n",
    "plt.savefig(figname)\n",
    "#files.download(figname)"
   ]
  },
  {
   "cell_type": "markdown",
   "metadata": {
    "colab_type": "text",
    "id": "rhBOczVUwrXN"
   },
   "source": [
    "**Part D. Plots for the relation between transaction fee and the delay **"
   ]
  },
  {
   "cell_type": "code",
   "execution_count": 0,
   "metadata": {
    "colab": {},
    "colab_type": "code",
    "id": "WwPOyyFV0FTH"
   },
   "outputs": [],
   "source": [
    "### Relation between transaction fee and the delay for fixed mu = 30 and fixed k = 5\n",
    "### Here we fix the transfer amount for all transactions as 25 and let the variation of the \n",
    "### transaction fees only through the variation of percentage. We choose percentage to range \n",
    "### from 0.01 to 0.1 with 0.005 as increments \n",
    "\n",
    "t_end = 100 # simulation period: 100 hours\n",
    "minerRate = [30] \n",
    "blockSize = [5]\n",
    "fixed_mu = 30\n",
    "fixed_k = 5\n",
    "simfixed_test = SimulationBasic(minerRate, blockSize, t_end) #Intialize a new SimulationBasic instance\n",
    "p_list = [i/1000 for i in range(10,100,5)] \n",
    "amount = 25  \n",
    "transFee,delay_ = simfixed_test.fixedSimulate(fixed_minerRate=fixed_mu,fixed_blockSize=fixed_k,amount = amount,p_list = p_list)"
   ]
  },
  {
   "cell_type": "code",
   "execution_count": 0,
   "metadata": {
    "colab": {
     "base_uri": "https://localhost:8080/",
     "height": 529
    },
    "colab_type": "code",
    "id": "W3i-WMcuHsT_",
    "outputId": "782f4763-b629-4cd3-f2de-da8d67207545"
   },
   "outputs": [
    {
     "data": {
      "text/plain": [
       "Text(0.5,1,'Relation between transaction fee and average delay for: u = 30, k = 5')"
      ]
     },
     "execution_count": 112,
     "metadata": {
      "tags": []
     },
     "output_type": "execute_result"
    },
    {
     "data": {
      "image/png": "[encoded data removed]",
      "text/plain": [
       "<matplotlib.figure.Figure at 0x7fe3fcd22470>"
      ]
     },
     "metadata": {
      "tags": []
     },
     "output_type": "display_data"
    }
   ],
   "source": [
    "### Plots for transaction fee and delay\n",
    "\n",
    "#plot for different transaction fee and delay\n",
    "plt.figure(figsize=(12,8))\n",
    "plt.plot(transFee,delay_)\n",
    "plt.ylabel(\"Average delay\")\n",
    "plt.xlabel(\"Transaction fee\")\n",
    "#plt.legend()\n",
    "plt.title(\"Relation between transaction fee and average delay for: u = {0}, k = {1}\".format(minerRate[0],blockSize[0]))"
   ]
  },
  {
   "cell_type": "markdown",
   "metadata": {
    "colab_type": "text",
    "id": "cDDsn8d8nVUT"
   },
   "source": [
    "#### **Part E. Replication of Optimal Scenarios & Corresponding Box Plots **"
   ]
  },
  {
   "cell_type": "code",
   "execution_count": 0,
   "metadata": {
    "colab": {},
    "colab_type": "code",
    "id": "sv4nfqyJnqcP"
   },
   "outputs": [],
   "source": [
    "## Replication of the simulation process\n",
    "minerRate_list = [30]\n",
    "blockSize_list = [7,8,9,10]\n",
    "rep = 100\n",
    "\n",
    "t_end = 300\n",
    "\n",
    "sim_opt = SimulationBasic(minerRate_list, np.repeat(blockSize_list,rep), t_end)\n",
    "sim_opt.multiTimeSimulate()"
   ]
  },
  {
   "cell_type": "code",
   "execution_count": 0,
   "metadata": {
    "colab": {},
    "colab_type": "code",
    "id": "2aA448-loEQo"
   },
   "outputs": [],
   "source": [
    "times = []\n",
    "queueLength = []\n",
    "transactionRate = []\n",
    "BRCRate = []\n",
    "delay = []\n",
    "rateofFee = []\n",
    "\n",
    "mu = []\n",
    "K = []\n",
    "\n",
    "for i in range(400):\n",
    "  result = sim_opt.results[i]\n",
    "  times.append(result[0])\n",
    "  queueLength.append(result[1])\n",
    "  transactionRate.append(result[2])\n",
    "  BRCRate.append(result[3])\n",
    "  delay.append(result[4])\n",
    "  rateofFee.append(result[5])\n",
    "  \n",
    "  mu.append(result[7][0])\n",
    "  K.append(result[7][1])"
   ]
  },
  {
   "cell_type": "code",
   "execution_count": 0,
   "metadata": {
    "colab": {},
    "colab_type": "code",
    "id": "5yLt457Qp-2o"
   },
   "outputs": [],
   "source": [
    "## Steady State\n",
    "minerRate_list = [30]\n",
    "blockSize_list = np.repeat([7,8,9,10],rep)\n",
    "\n",
    "s_data = steadyState(sim.results, 200, minerRate_list, blockSize_list)"
   ]
  },
  {
   "cell_type": "code",
   "execution_count": 0,
   "metadata": {
    "colab": {},
    "colab_type": "code",
    "id": "GoTuAESuqQh-"
   },
   "outputs": [],
   "source": [
    "## Save the resulted data frame of steady state value\n",
    "\n",
    "QueueLength = s_data[0]\n",
    "QL7 = QueueLength.iloc[0:100,0].values\n",
    "QL8 = QueueLength.iloc[100:200,0].values\n",
    "QL9 = QueueLength.iloc[200:300,0].values\n",
    "QL10 = QueueLength.iloc[300:400,0].values\n",
    "QueueLength = pd.DataFrame({7:QL7, 8:QL8, 9:QL9, 10:QL10})\n",
    "\n",
    "NumTrans = s_data[1]\n",
    "NT7 = NumTrans.iloc[0:100,0].values\n",
    "NT8 = NumTrans.iloc[100:200,0].values\n",
    "NT9 = NumTrans.iloc[200:300,0].values\n",
    "NT10 = NumTrans.iloc[300:400,0].values\n",
    "NumTrans = pd.DataFrame({7:NT7, 8:NT8, 9:NT9, 10:NT10})\n",
    "\n",
    "BRC = s_data[2]\n",
    "BRC7 = BRC.iloc[0:100,0].values\n",
    "BRC8 = BRC.iloc[100:200,0].values\n",
    "BRC9 = BRC.iloc[200:300,0].values\n",
    "BRC10 = BRC.iloc[300:400,0].values\n",
    "BRC = pd.DataFrame({7:BRC7, 8:BRC8, 9:BRC9, 10:BRC10})\n",
    "\n",
    "Delay = s_data[3]\n",
    "D7 = Delay.iloc[0:100,0].values\n",
    "D8 = Delay.iloc[100:200,0].values\n",
    "D9 = Delay.iloc[200:300,0].values\n",
    "D10 = Delay.iloc[300:400,0].values\n",
    "BRC = pd.DataFrame({7:D7, 8:D8, 9:D9, 10:D10})\n",
    "\n",
    "Fee = s_data[4]\n",
    "Fee7 = Fee.iloc[0:100,0].values\n",
    "Fee8 = Fee.iloc[100:200,0].values\n",
    "Fee9 = Fee.iloc[200:300,0].values\n",
    "Fee10 = Fee.iloc[300:400,0].values\n",
    "BRC = pd.DataFrame({7:Fee7, 8:Fee8, 9:Fee9, 10:Fee10})"
   ]
  },
  {
   "cell_type": "code",
   "execution_count": 0,
   "metadata": {
    "colab": {},
    "colab_type": "code",
    "id": "6Xsu91BFqki8"
   },
   "outputs": [],
   "source": [
    "## Delay Box Plot\n",
    "plt.figure(figsize=(10,7))\n",
    "plt.xlabel(\"K\")\n",
    "plt.title(\"Delay\")\n",
    "plt.boxplot([Delay[7],Delay[8],Delay[9],Delay[10]],labels = [7,8,9,10])\n",
    "\n",
    "figname = \"Delay_Box.jpg\"\n",
    "plt.savefig(figname)\n",
    "#files.download(figname)"
   ]
  },
  {
   "cell_type": "code",
   "execution_count": 0,
   "metadata": {
    "colab": {},
    "colab_type": "code",
    "id": "qH8Y_ZCtvuHU"
   },
   "outputs": [],
   "source": [
    "## Delay Summary Table\n",
    "DelayMean = Delay.apply(np.mean,axis = 0)\n",
    "DelayMed = Delay.apply(np.median,axis = 0)\n",
    "DelaySd = Delay.apply(np.std,axis = 0)\n",
    "DelayMax = Delay.apply(np.amax,axis = 0)\n",
    "DelayMin = Delay.apply(np.amin,axis = 0)\n",
    "\n",
    "z = 1.96\n",
    "DelayLower = DelayMean - z*DelaySd\n",
    "DelayUpper = DelayMean + z*DelaySd\n",
    "DelaySummary = pd.DataFrame({'Min':DelayMin,'Mean':DelayMean,'Median':DelayMed,\n",
    "                            'LowBound':DelayLower,'UpBound':DelayUpper,\n",
    "                            'Max':DelayMax})\n",
    "DelaySummary = DelaySummary[[\"Min\",\"LowBound\",\"Mean\",\"Median\",\"UpBound\",\"Max\"]]\n",
    "DelaySummary"
   ]
  },
  {
   "cell_type": "code",
   "execution_count": 0,
   "metadata": {
    "colab": {},
    "colab_type": "code",
    "id": "QbO-bURqv1Gm"
   },
   "outputs": [],
   "source": [
    "## QueueLength Box Plot\n",
    "plt.figure(figsize=(10,7))\n",
    "plt.xlabel(\"K\")\n",
    "plt.title(\"QueueLength\")\n",
    "plt.boxplot([QueueLength[7],QueueLength[8],QueueLength[9],QueueLength[10]],labels = [7,8,9,10])\n",
    "\n",
    "figname = \"QLength_Box.jpg\"\n",
    "plt.savefig(figname)\n",
    "#files.download(figname)"
   ]
  },
  {
   "cell_type": "code",
   "execution_count": 0,
   "metadata": {
    "colab": {},
    "colab_type": "code",
    "id": "awRYn5vKv344"
   },
   "outputs": [],
   "source": [
    "## QueueLength Summary Table\n",
    "QLMean = QueueLength.apply(np.mean,axis = 0)\n",
    "QLMed = QueueLength.apply(np.median,axis = 0)\n",
    "QLSd = QueueLength.apply(np.std,axis = 0)\n",
    "QLMax = QueueLength.apply(np.amax,axis = 0)\n",
    "QLMin = QueueLength.apply(np.amin,axis = 0)\n",
    "\n",
    "z = 1.96\n",
    "QLLower = QLMean - z*QLSd\n",
    "QLUpper = QLMean + z*QLSd\n",
    "QLSummary = pd.DataFrame({'Min':QLMin,'Mean':QLMean,'Median':QLMed,\n",
    "                          'LowBound':QLLower,'UpBound':QLUpper,\n",
    "                          'Max':QLMax})\n",
    "QLSummary = QLSummary[[\"Min\",\"LowBound\",\"Mean\",\"Median\",\"UpBound\",\"Max\"]]\n",
    "QLSummary"
   ]
  },
  {
   "cell_type": "code",
   "execution_count": 0,
   "metadata": {
    "colab": {},
    "colab_type": "code",
    "id": "zakWFR2av-eW"
   },
   "outputs": [],
   "source": [
    "## Fee Box Plot\n",
    "plt.figure(figsize=(10,7))\n",
    "plt.xlabel(\"K\")\n",
    "plt.title(\"Rate of Fee\")\n",
    "plt.boxplot([Fee[7],Fee[8],Fee[9],Fee[10]],labels = [7,8,9,10])\n",
    "\n",
    "figname = \"RateofFee_Box.jpg\"\n",
    "plt.savefig(figname)\n",
    "files.download(figname)"
   ]
  },
  {
   "cell_type": "code",
   "execution_count": 0,
   "metadata": {
    "colab": {},
    "colab_type": "code",
    "id": "GFqeZ3V5wHkB"
   },
   "outputs": [],
   "source": [
    "## BRC\n",
    "plt.figure(figsize=(10,7))\n",
    "plt.xlabel(\"K\")\n",
    "plt.title(\"Transaction Amount\")\n",
    "plt.boxplot([BRC[7],BRC[8],BRC[9],BRC[10]],labels = [7,8,9,10])\n",
    "\n",
    "figname = \"TransAmount_Box.jpg\"\n",
    "plt.savefig(figname)\n",
    "files.download(figname)"
   ]
  },
  {
   "cell_type": "code",
   "execution_count": 0,
   "metadata": {
    "colab": {},
    "colab_type": "code",
    "id": "OCyobZZjwBwl"
   },
   "outputs": [],
   "source": [
    "## NumTrans\n",
    "plt.figure(figsize=(10,7))\n",
    "plt.xlabel(\"K\")\n",
    "plt.title(\"Number of Transactions\")\n",
    "plt.boxplot([NumTrans[7],NumTrans[8],NumTrans[9],NumTrans[10]],labels = [7,8,9,10])\n",
    "#plt.set_facecolor('white')\n",
    "\n",
    "figname = \"NumTrans_Box.jpg\"\n",
    "plt.savefig(figname)\n",
    "#files.download(figname)"
   ]
  }
 ],
 "metadata": {
  "colab": {
   "collapsed_sections": [],
   "name": "Code_of_ORIE_5580_Project.ipynb",
   "provenance": [],
   "version": "0.3.2"
  },
  "kernelspec": {
   "display_name": "Python 3",
   "language": "python",
   "name": "python3"
  },
  "language_info": {
   "codemirror_mode": {
    "name": "ipython",
    "version": 3
   },
   "file_extension": ".py",
   "mimetype": "text/x-python",
   "name": "python",
   "nbconvert_exporter": "python",
   "pygments_lexer": "ipython3",
   "version": "3.6.5"
  }
 },
 "nbformat": 4,
 "nbformat_minor": 1
}
